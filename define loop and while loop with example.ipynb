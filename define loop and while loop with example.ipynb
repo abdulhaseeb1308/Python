{
 "cells": [
  {
   "cell_type": "code",
   "execution_count": 1,
   "id": "2173f3a0-fc5b-4f6d-826d-042128f30266",
   "metadata": {},
   "outputs": [],
   "source": [
    "#Explain with an example each when to use a for loop and a while loop.\n"
   ]
  },
  {
   "cell_type": "code",
   "execution_count": 3,
   "id": "7e14b948-3987-4996-beff-48c4c08ae2b8",
   "metadata": {},
   "outputs": [
    {
     "name": "stdout",
     "output_type": "stream",
     "text": [
      "1\n",
      "2\n",
      "3\n",
      "4\n",
      "5\n",
      "6\n",
      "7\n",
      "8\n",
      "9\n",
      "10\n"
     ]
    }
   ],
   "source": [
    "#For Loop:\n",
    "#A for loop is typically used when you know the number of iterations or the range of values you want to iterate over. It is particularly useful when you want to perform a certain action a fixed number of times.\n",
    "#Example: Let's say you want to print the numbers from 1 to 10.\n",
    "for i in range(1, 11):\n",
    "    print(i)\n"
   ]
  },
  {
   "cell_type": "code",
   "execution_count": 6,
   "id": "9397789e-e41d-403c-8c9b-52a24ec08f37",
   "metadata": {},
   "outputs": [
    {
     "name": "stdout",
     "output_type": "stream",
     "text": [
      "Sum: 1035\n",
      "Last number added: 45\n"
     ]
    }
   ],
   "source": [
    "'''While Loop:\n",
    "A while loop is used when you want to repeat a block of code until a specific condition becomes false. It is useful when you don't know the exact number of iterations in advance or when the number of iterations depends on some external factor.\n",
    "Example: Let's say you want to calculate the sum of numbers from 1 to 100 and stop when the sum exceeds 1000.'''\n",
    "total = 0\n",
    "num = 1\n",
    "\n",
    "while total <= 1000:\n",
    "    total += num\n",
    "    num += 1\n",
    "\n",
    "print(\"Sum:\", total)\n",
    "print(\"Last number added:\", num - 1)"
   ]
  },
  {
   "cell_type": "code",
   "execution_count": null,
   "id": "986073ea-8a85-4c77-90aa-548f1bd44545",
   "metadata": {},
   "outputs": [],
   "source": []
  },
  {
   "cell_type": "code",
   "execution_count": null,
   "id": "efce10d2-326c-4732-a43d-6f99f91d1abd",
   "metadata": {},
   "outputs": [],
   "source": []
  }
 ],
 "metadata": {
  "kernelspec": {
   "display_name": "Python 3 (ipykernel)",
   "language": "python",
   "name": "python3"
  },
  "language_info": {
   "codemirror_mode": {
    "name": "ipython",
    "version": 3
   },
   "file_extension": ".py",
   "mimetype": "text/x-python",
   "name": "python",
   "nbconvert_exporter": "python",
   "pygments_lexer": "ipython3",
   "version": "3.10.8"
  }
 },
 "nbformat": 4,
 "nbformat_minor": 5
}
